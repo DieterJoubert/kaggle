{
 "cells": [
  {
   "cell_type": "code",
   "execution_count": 4,
   "metadata": {
    "collapsed": false
   },
   "outputs": [
    {
     "name": "stdout",
     "output_type": "stream",
     "text": [
      "----HEADER----\n",
      "['PassengerId', 'Survived', 'Pclass', 'Name', 'Sex', 'Age', 'SibSp', 'Parch', 'Ticket', 'Fare', 'Cabin', 'Embarked']\n",
      "----OVERVIEW OF DATA----\n",
      "[['1' '0' '3' ..., '7.25' '' 'S']\n",
      " ['2' '1' '1' ..., '71.2833' 'C85' 'C']\n",
      " ['3' '1' '3' ..., '7.925' '' 'S']\n",
      " ..., \n",
      " ['889' '0' '3' ..., '23.45' '' 'S']\n",
      " ['890' '1' '1' ..., '30' 'C148' 'C']\n",
      " ['891' '0' '3' ..., '7.75' '' 'Q']]\n",
      "----ACCESS A SINGLE LINE----\n",
      "['1' '0' '3' 'Braund, Mr. Owen Harris' 'male' '22' '1' '0' 'A/5 21171'\n",
      " '7.25' '' 'S']\n",
      "----ACCESS A SINGLE CELL----\n",
      "Braund, Mr. Owen Harris\n",
      "----ACCESS A COLUMN----\n",
      "['male' 'female' 'female' 'female' 'male' 'male' 'male' 'male' 'female'\n",
      " 'female']\n"
     ]
    }
   ],
   "source": [
    "import csv as csv\n",
    "import numpy as np\n",
    "\n",
    "csv_file_object = csv.reader(open('./data/train.csv','rb'))\n",
    "\n",
    "#skip and return the first line as the header\n",
    "header = csv_file_object.next()\n",
    "\n",
    "#put the rest of the lines into an object called data\n",
    "data = []\n",
    "for row in csv_file_object:\n",
    "    data.append(row)\n",
    "    \n",
    "data = np.array(data)\n",
    "\n",
    "print(\"----HEADER----\")\n",
    "print(header)\n",
    "\n",
    "print(\"----OVERVIEW OF DATA----\")\n",
    "print(data)\n",
    "\n",
    "print(\"----ACCESS A SINGLE LINE----\")\n",
    "print(data[0])\n",
    "\n",
    "print(\"----ACCESS A SINGLE CELL----\")\n",
    "print(data[0][3])\n",
    "\n",
    "print(\"----ACCESS A COLUMN----\")\n",
    "print(data[0:10:,4])"
   ]
  },
  {
   "cell_type": "code",
   "execution_count": 5,
   "metadata": {
    "collapsed": false,
    "scrolled": true
   },
   "outputs": [
    {
     "name": "stdout",
     "output_type": "stream",
     "text": [
      "[False  True  True  True False False False False  True  True]\n",
      "[ 1.  1.  1.  1.  1.  1.  1.  0.  1.  0.  1.  1.  0.  1.  1.  1.  1.  0.\n",
      "  1.  0.  0.  1.  1.  1.  0.  1.  1.  1.  1.  1.  1.  1.  0.  1.  1.  1.\n",
      "  1.  1.  1.  0.  1.  1.  0.  0.  0.  0.  1.  1.  0.  1.  1.  0.  1.  1.\n",
      "  0.  1.  1.  1.  1.  0.  1.  0.  0.  1.  1.  1.  1.  1.  1.  1.  0.  0.\n",
      "  1.  1.  1.  1.  1.  0.  1.  1.  0.  1.  0.  1.  0.  1.  0.  0.  1.  1.\n",
      "  1.  1.  1.  0.  1.  1.  1.  1.  1.  0.  1.  1.  1.  1.  0.  0.  1.  1.\n",
      "  1.  1.  1.  1.  1.  1.  0.  1.  1.  1.  1.  1.  1.  1.  1.  1.  1.  1.\n",
      "  1.  1.  1.  1.  1.  1.  1.  0.  1.  1.  0.  1.  1.  1.  1.  0.  1.  1.\n",
      "  1.  1.  1.  1.  1.  1.  1.  0.  1.  0.  0.  0.  1.  0.  1.  1.  0.  0.\n",
      "  1.  1.  1.  1.  1.  0.  1.  1.  1.  1.  1.  1.  1.  1.  1.  1.  0.  1.\n",
      "  1.  0.  1.  1.  0.  0.  0.  0.  1.  1.  1.  1.  1.  1.  1.  1.  1.  1.\n",
      "  0.  1.  1.  1.  1.  0.  0.  1.  1.  1.  1.  1.  0.  0.  1.  1.  1.  1.\n",
      "  0.  1.  1.  1.  1.  0.  1.  1.  1.  1.  0.  1.  1.  0.  1.  1.  0.  1.\n",
      "  0.  1.  0.  1.  1.  1.  1.  0.  0.  1.  1.  1.  0.  0.  1.  1.  1.  1.\n",
      "  0.  1.  1.  1.  1.  1.  1.  1.  1.  0.  1.  0.  1.  1.  1.  1.  1.  1.\n",
      "  1.  0.  0.  1.  1.  1.  1.  1.  1.  0.  1.  1.  0.  1.  0.  1.  0.  0.\n",
      "  1.  1.  1.  1.  1.  1.  1.  0.  1.  0.  1.  1.  1.  1.  0.  1.  1.  1.\n",
      "  1.  1.  1.  1.  0.  0.  1.  0.]\n",
      "0.742038216561\n",
      "0.188908145581\n"
     ]
    }
   ],
   "source": [
    "women_only_stats = data[0::,4] == \"female\"  #sets True if woman at index, otherwise False\n",
    "men_only_stats = data[0::,4] == \"male\"  #sets False if woman at index, otherwise True\n",
    "\n",
    "print(women_only_stats[0:10:])\n",
    "\n",
    "women_onboard = data[women_only_stats,1].astype(np.float)  #feed array in, where True, put a 1 where True\n",
    "men_onboard = data[men_only_stats,1].astype(np.float)\n",
    "\n",
    "print(women_onboard)\n",
    "\n",
    "proportion_women_survived = sum(women_onboard) / len(women_onboard)\n",
    "proportion_men_survived = sum(men_onboard) / len(men_onboard)\n",
    "\n",
    "print proportion_women_survived\n",
    "print proportion_men_survived"
   ]
  },
  {
   "cell_type": "code",
   "execution_count": 6,
   "metadata": {
    "collapsed": false
   },
   "outputs": [
    {
     "name": "stdout",
     "output_type": "stream",
     "text": [
      "['PassengerId', 'Pclass', 'Name', 'Sex', 'Age', 'SibSp', 'Parch', 'Ticket', 'Fare', 'Cabin', 'Embarked']\n"
     ]
    }
   ],
   "source": [
    "test_file_object = csv.reader(open('./data/test.csv','rb'))\n",
    "header = test_file_object.next()\n",
    "\n",
    "print(header)\n",
    "\n",
    "prediction_file_object = csv.writer(open(\"./out/genderbasedmodel.csv\",\"wb\"))\n",
    "\n",
    "prediction_file_object.writerow([\"PassengerId\",\"Survived\"])\n",
    "\n",
    "for row in test_file_object: \n",
    "    if row[3] == \"female\":\n",
    "        prediction_file_object.writerow([row[0],1])\n",
    "    else:\n",
    "        prediction_file_object.writerow([row[0],0])\n"
   ]
  },
  {
   "cell_type": "code",
   "execution_count": null,
   "metadata": {
    "collapsed": true
   },
   "outputs": [],
   "source": []
  }
 ],
 "metadata": {
  "kernelspec": {
   "display_name": "Python 2",
   "language": "python",
   "name": "python2"
  },
  "language_info": {
   "codemirror_mode": {
    "name": "ipython",
    "version": 2
   },
   "file_extension": ".py",
   "mimetype": "text/x-python",
   "name": "python",
   "nbconvert_exporter": "python",
   "pygments_lexer": "ipython2",
   "version": "2.7.9"
  }
 },
 "nbformat": 4,
 "nbformat_minor": 0
}
