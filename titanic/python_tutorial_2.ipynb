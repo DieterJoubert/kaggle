{
 "cells": [
  {
   "cell_type": "code",
   "execution_count": 1,
   "metadata": {
    "collapsed": false
   },
   "outputs": [
    {
     "name": "stdout",
     "output_type": "stream",
     "text": [
      "0   PassengerId\n",
      "1   Survived\n",
      "2   Pclass\n",
      "3   Name\n",
      "4   Sex\n",
      "5   Age\n",
      "6   SibSp\n",
      "7   Parch\n",
      "8   Ticket\n",
      "9   Fare\n",
      "10   Cabin\n",
      "11   Embarked\n"
     ]
    }
   ],
   "source": [
    "\"\"\"\n",
    "VARIABLE DESCRIPTIONS:\n",
    "survival        Survival\n",
    "                (0 = No; 1 = Yes)\n",
    "pclass          Passenger Class\n",
    "                (1 = 1st; 2 = 2nd; 3 = 3rd)\n",
    "name            Name\n",
    "sex             Sex\n",
    "age             Age\n",
    "sibsp           Number of Siblings/Spouses Aboard\n",
    "parch           Number of Parents/Children Aboard\n",
    "ticket          Ticket Number\n",
    "fare            Passenger Fare\n",
    "cabin           Cabin\n",
    "embarked        Port of Embarkation\n",
    "                (C = Cherbourg; Q = Queenstown; S = Southampton)\n",
    "\n",
    "SPECIAL NOTES:\n",
    "Pclass is a proxy for socio-economic status (SES)\n",
    " 1st ~ Upper; 2nd ~ Middle; 3rd ~ Lower\n",
    "\n",
    "Age is in Years; Fractional if Age less than One (1)\n",
    " If the Age is Estimated, it is in the form xx.5\n",
    "\"\"\"\n",
    "\n",
    "import csv as csv\n",
    "import numpy as np\n",
    "\n",
    "csv_file_object = csv.reader(open('./data/train.csv','rb'))\n",
    "\n",
    "#read in header and data\n",
    "header = csv_file_object.next()\n",
    "data = []\n",
    "for row in csv_file_object:\n",
    "    data.append(row)\n",
    "    \n",
    "data = np.array(data)\n",
    "\n",
    "for i in range(len(header)):\n",
    "    print str(i) + \"   \" + header[i]"
   ]
  },
  {
   "cell_type": "code",
   "execution_count": 8,
   "metadata": {
    "collapsed": false
   },
   "outputs": [
    {
     "name": "stdout",
     "output_type": "stream",
     "text": [
      "['7.25' '39.0' '7.925' '39.0' '8.05' '8.4583' '39.0' '21.075' '11.1333'\n",
      " '30.0708']\n",
      "4\n",
      "2\n"
     ]
    }
   ],
   "source": [
    "fare_ceiling = 40\n",
    "\n",
    "#run through data, if fare >= 40, replace with fare 39 (ceiling)\n",
    "data[ data[0::,9].astype(np.float) >= fare_ceiling, 9] = fare_ceiling - 1.0\n",
    "\n",
    "print(data[:10:,9])\n",
    "\n",
    "#create fare brackets of size 10\n",
    "fare_bracket_size = 10\n",
    "number_of_price_brackets = fare_ceiling / fare_bracket_size\n",
    "\n",
    "print(number_of_price_brackets)\n",
    "\n",
    "#create number of classes (given in data: 1st, 2nd, 3rd)\n",
    "number_of_classes = len(np.unique(data[0::,2]))\n",
    "\n",
    "#in order to avoid hardcoding, see how many values \"sex\" can take on\n",
    "number_of_sexes = len(np.unique(data[0::,4]))\n",
    "\n",
    "print(number_of_sexes)"
   ]
  },
  {
   "cell_type": "code",
   "execution_count": 9,
   "metadata": {
    "collapsed": false
   },
   "outputs": [
    {
     "name": "stdout",
     "output_type": "stream",
     "text": [
      "[[[ 0.  0.  0.  0.]\n",
      "  [ 0.  0.  0.  0.]\n",
      "  [ 0.  0.  0.  0.]]\n",
      "\n",
      " [[ 0.  0.  0.  0.]\n",
      "  [ 0.  0.  0.  0.]\n",
      "  [ 0.  0.  0.  0.]]]\n"
     ]
    }
   ],
   "source": [
    "#create 2x3x4 array matrix of bins (female/male, 1st/2nd/3rd class, price brackets)\n",
    "survival_table = np.zeros([number_of_sexes,number_of_classes,number_of_price_brackets],float)\n",
    "print(survival_table)"
   ]
  },
  {
   "cell_type": "code",
   "execution_count": 22,
   "metadata": {
    "collapsed": false
   },
   "outputs": [
    {
     "name": "stdout",
     "output_type": "stream",
     "text": [
      "[[[ 0.          0.          0.83333333  0.97727273]\n",
      "  [ 0.          0.91428571  0.9         1.        ]\n",
      "  [ 0.59375     0.58139535  0.33333333  0.125     ]]\n",
      "\n",
      " [[ 0.          0.          0.4         0.38372093]\n",
      "  [ 0.          0.15873016  0.16        0.21428571]\n",
      "  [ 0.11153846  0.23684211  0.125       0.24      ]]]\n"
     ]
    }
   ],
   "source": [
    "#loop through each variable and find all those pasangers that agree with statements:\n",
    "for i in xrange(number_of_classes):\n",
    "    for j in xrange(number_of_price_brackets):\n",
    "        women_only_stats = data[ (data[0::,4] == \"female\") & \n",
    "                                (data[0::,2].astype(np.float) == i+1) & \n",
    "                                (data[0::,9].astype(np.float) >= j*fare_bracket_size) &\n",
    "                                (data[0:,9].astype(np.float) < (j+1)*fare_bracket_size),\n",
    "                                1]\n",
    "        men_only_stats = data[ (data[0::,4] == \"male\") & \n",
    "                                (data[0::,2].astype(np.float) == i+1) & \n",
    "                                (data[0::,9].astype(np.float) >= j*fare_bracket_size) &\n",
    "                                (data[0:,9].astype(np.float) < (j+1)*fare_bracket_size),\n",
    "                                1]\n",
    "        survival_table[0,i,j] = np.mean(women_only_stats.astype(np.float))\n",
    "        survival_table[1,i,j] = np.mean(men_only_stats.astype(np.float))\n",
    "\n",
    "#take out the nan values (where the bracket is empty, resulting in division by zero)\n",
    "survival_table[survival_table != survival_table] = 0\n",
    "    \n",
    "print(survival_table)"
   ]
  },
  {
   "cell_type": "code",
   "execution_count": 23,
   "metadata": {
    "collapsed": false
   },
   "outputs": [
    {
     "name": "stdout",
     "output_type": "stream",
     "text": [
      "[[[ 0.  0.  1.  1.]\n",
      "  [ 0.  1.  1.  1.]\n",
      "  [ 1.  1.  0.  0.]]\n",
      "\n",
      " [[ 0.  0.  0.  0.]\n",
      "  [ 0.  0.  0.  0.]\n",
      "  [ 0.  0.  0.  0.]]]\n"
     ]
    }
   ],
   "source": [
    "#assume that probability 0.5 or greater means survival\n",
    "survival_table[ survival_table < 0.5 ] = 0\n",
    "survival_table[ survival_table >= 0.5] = 1\n",
    "\n",
    "print(survival_table)"
   ]
  },
  {
   "cell_type": "code",
   "execution_count": 27,
   "metadata": {
    "collapsed": false
   },
   "outputs": [
    {
     "name": "stdout",
     "output_type": "stream",
     "text": [
      "['PassengerId', 'Pclass', 'Name', 'Sex', 'Age', 'SibSp', 'Parch', 'Ticket', 'Fare', 'Cabin', 'Embarked']\n"
     ]
    }
   ],
   "source": [
    "test_file_object = csv.reader(open('./data/test.csv','rb'))\n",
    "header = test_file_object.next()\n",
    "\n",
    "print(header)\n",
    "\n",
    "p = csv.writer(open(\"./out/genderclassmodel.csv\",\"wb\"))\n",
    "\n",
    "p.writerow([\"PassengerId\",\"Survived\"])\n",
    "\n",
    "for row in test_file_object:\n",
    "    for j in xrange(number_of_price_brackets):\n",
    "        try:\n",
    "            row[8] = float(row[8])\n",
    "        except:\n",
    "            bin_fare = 3 - float(row[1])\n",
    "            break\n",
    "        if row[8] > fare_ceiling:\n",
    "            bin_fare = number_of_price_brackets - 1\n",
    "            break           \n",
    "        if row[8] >= j * fare_bracket_size and row[8] < (j+1)*fare_bracket_size:\n",
    "            bin_fare = j\n",
    "            break\n",
    "    if row[3] == \"female\":\n",
    "        p.writerow([row[0], \"%d\" %int(survival_table[0, float(row[1])-1, bin_fare])])\n",
    "    else:\n",
    "        p.writerow([row[0], \"%d\" %int(survival_table[1, float(row[1])-1, bin_fare])])\n",
    "        \n"
   ]
  },
  {
   "cell_type": "code",
   "execution_count": null,
   "metadata": {
    "collapsed": true
   },
   "outputs": [],
   "source": []
  }
 ],
 "metadata": {
  "kernelspec": {
   "display_name": "Python 2",
   "language": "python",
   "name": "python2"
  },
  "language_info": {
   "codemirror_mode": {
    "name": "ipython",
    "version": 2
   },
   "file_extension": ".py",
   "mimetype": "text/x-python",
   "name": "python",
   "nbconvert_exporter": "python",
   "pygments_lexer": "ipython2",
   "version": "2.7.9"
  }
 },
 "nbformat": 4,
 "nbformat_minor": 0
}
